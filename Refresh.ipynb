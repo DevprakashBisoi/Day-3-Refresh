{
 "cells": [
  {
   "cell_type": "code",
   "execution_count": 13,
   "metadata": {},
   "outputs": [
    {
     "name": "stdin",
     "output_type": "stream",
     "text": [
      "Enter your username:  user1\n",
      "Enter your password:  abc\n"
     ]
    },
    {
     "data": {
      "text/plain": [
       "True"
      ]
     },
     "execution_count": 13,
     "metadata": {},
     "output_type": "execute_result"
    }
   ],
   "source": [
    "import json\n",
    "\n",
    "with open(\"dir/userdata.txt\", \"r\") as f:\n",
    "    # Load the data from the file as a dictionary\n",
    "    data = json.load(f)\n",
    "\n",
    "def validate_login(username, password):\n",
    "    if username in data:\n",
    "        if password == data[username]:\n",
    "            return True\n",
    "        else:\n",
    "            print(\"Incorrect password. Please try again.\")\n",
    "    else:\n",
    "        print(\"Username not found. Please try again.\")\n",
    "\n",
    "username = input(\"Enter your username: \")\n",
    "password = input(\"Enter your password: \")\n",
    "validate_login(username, password)"
   ]
  },
  {
   "cell_type": "code",
   "execution_count": 24,
   "metadata": {},
   "outputs": [
    {
     "name": "stdout",
     "output_type": "stream",
     "text": [
      "Your total amount is 1300.\n",
      "Your transaction data is [{'deposit': 100}, {'withdraw': 100}, {'deposit': 100}, {'deposit': 100}, {'deposit': 100}].\n"
     ]
    }
   ],
   "source": [
    "if validate_login:\n",
    "    with open(\"dir/transaction.txt\", \"r\") as f:\n",
    "        transactions = json.load(f)\n",
    "\n",
    "#total money user1 has\n",
    "total=1000\n",
    "transaction_data = []\n",
    "\n",
    "for key, value in transactions.items():\n",
    "    if key == username:\n",
    "        for item in value:\n",
    "            transaction_data.append(item)\n",
    "            \n",
    "            if \"deposit\" in item:\n",
    "                total += item[\"deposit\"]\n",
    "            if \"withdraw\" in item:\n",
    "                total -= item[\"withdraw\"]\n",
    "\n",
    "print(f\"Your total amount is {total}.\")\n",
    "print(f\"Your transaction data is {transaction_data}.\")"
   ]
  },
  {
   "cell_type": "code",
   "execution_count": null,
   "metadata": {},
   "outputs": [],
   "source": []
  }
 ],
 "metadata": {
  "kernelspec": {
   "display_name": "Python 3",
   "language": "python",
   "name": "python3"
  },
  "language_info": {
   "codemirror_mode": {
    "name": "ipython",
    "version": 3
   },
   "file_extension": ".py",
   "mimetype": "text/x-python",
   "name": "python",
   "nbconvert_exporter": "python",
   "pygments_lexer": "ipython3",
   "version": "3.7.6"
  }
 },
 "nbformat": 4,
 "nbformat_minor": 4
}
